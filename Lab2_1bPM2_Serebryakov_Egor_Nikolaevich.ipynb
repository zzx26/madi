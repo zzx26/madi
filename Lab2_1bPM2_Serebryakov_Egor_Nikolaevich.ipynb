{
 "cells": [
  {
   "cell_type": "code",
   "execution_count": null,
   "metadata": {},
   "outputs": [],
   "source": []
  },
  {
   "cell_type": "code",
   "execution_count": 23,
   "metadata": {},
   "outputs": [
    {
     "name": "stdout",
     "output_type": "stream",
     "text": [
      "original matrix\n",
      "[[3 1 3 1]\n",
      " [3 3 2 1]\n",
      " [3 3 3 1]\n",
      " [2 1 1 3]]\n",
      "________\n",
      "summary surface =  40.0\n",
      "________\n",
      "xy view\n",
      "[[1. 1. 1. 1.]\n",
      " [1. 1. 1. 1.]\n",
      " [1. 1. 1. 1.]\n",
      " [1. 1. 1. 1.]]\n",
      "________\n",
      "yz view\n",
      "[[0. 0. 0. 0.]\n",
      " [1. 1. 1. 1.]\n",
      " [1. 1. 1. 1.]\n",
      " [1. 1. 1. 1.]]\n",
      "________\n",
      "zx view\n",
      "[[0. 0. 0. 0.]\n",
      " [1. 1. 1. 1.]\n",
      " [1. 1. 1. 1.]\n",
      " [1. 1. 1. 1.]]\n"
     ]
    }
   ],
   "source": [
    "import numpy as np\n",
    "\n",
    "mat = np.random.randint(0, 4, (4, 4))\n",
    "print('original matrix')\n",
    "print(mat)\n",
    "\n",
    "def proj(mat, axis='xy'):\n",
    "    proj_mat = np.zeros((np.ma.size(mat, 0), np.ma.size(mat, 1)))\n",
    "    if axis == 'xy':\n",
    "        for i in range(np.ma.size(mat, 0)):\n",
    "            for j in range(np.ma.size(mat, 1)):\n",
    "                if mat[i, j]:\n",
    "                    proj_mat[i, j] = 1\n",
    "        return proj_mat\n",
    "    \n",
    "    elif axis == 'zx':\n",
    "        for i in range(np.ma.size(mat, 0)):\n",
    "            temp = 0\n",
    "            for j in range(np.ma.size(mat, 1)):\n",
    "                if mat[j, i] > temp:\n",
    "                    temp = mat[j, i]\n",
    "            for j in range(temp):\n",
    "                proj_mat[np.ma.size(mat, 1) - j - 1, np.ma.size(mat, 0) - i - 1] = 1\n",
    "        return proj_mat\n",
    "    \n",
    "    elif axis == 'yz':\n",
    "        for i in range(np.ma.size(mat, 0)):\n",
    "            temp = 0\n",
    "            for j in range(np.ma.size(mat, 1)):\n",
    "                if mat[i, j] > temp:\n",
    "                    temp = mat[i, j]\n",
    "            for j in range(temp):\n",
    "                proj_mat[np.ma.size(mat, 1) - j - 1, np.ma.size(mat, 0) - i - 1] = 1\n",
    "        return proj_mat\n",
    "    \n",
    "    else:\n",
    "        return 'incorrect axis label!'\n",
    "\n",
    "\n",
    "def surface(mat):\n",
    "    return np.sum(proj(mat)) + np.sum(proj(mat, 'yz')) + np.sum(proj(mat, 'zx'))\n",
    "\n",
    "print('________')\n",
    "print('summary surface = ',  surface(mat))\n",
    "print('________')\n",
    "print('xy view')\n",
    "print(proj(mat))   \n",
    "print('________')\n",
    "print('yz view')\n",
    "print(proj(mat, 'yz'))\n",
    "print('________')\n",
    "print('zx view')\n",
    "print(proj(mat, 'zx'))\n"
   ]
  },
  {
   "cell_type": "code",
   "execution_count": null,
   "metadata": {},
   "outputs": [],
   "source": []
  }
 ],
 "metadata": {
  "kernelspec": {
   "display_name": "Python 3",
   "language": "python",
   "name": "python3"
  },
  "language_info": {
   "codemirror_mode": {
    "name": "ipython",
    "version": 3
   },
   "file_extension": ".py",
   "mimetype": "text/x-python",
   "name": "python",
   "nbconvert_exporter": "python",
   "pygments_lexer": "ipython3",
   "version": "3.7.3"
  }
 },
 "nbformat": 4,
 "nbformat_minor": 2
}
